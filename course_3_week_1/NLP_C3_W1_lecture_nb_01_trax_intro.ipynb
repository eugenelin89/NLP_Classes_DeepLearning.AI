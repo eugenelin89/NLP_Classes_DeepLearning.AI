{
 "cells": [
  {
   "cell_type": "markdown",
   "metadata": {},
   "source": [
    "# Trax : Ungraded Lecture Notebook\n",
    "\n",
    "In this notebook you'll get to know about the Trax framework and learn about some of its basic building blocks.\n",
    "\n"
   ]
  },
  {
   "cell_type": "markdown",
   "metadata": {},
   "source": [
    "## Background\n",
    "\n",
    "### Why Trax and not TensorFlow or PyTorch?\n",
    "\n",
    "TensorFlow and PyTorch are both extensive frameworks that can do almost anything in deep learning. They offer a lot of flexibility, but that often means verbosity of syntax and extra time to code.\n",
    "\n",
    "Trax is much more concise. It runs on a TensorFlow backend but allows you to train models with 1 line commands. Trax also runs end to end, allowing you to get data, model and train all with a single terse statements. This means you can focus on learning, instead of spending hours on the idiosyncrasies of big framework implementation.\n",
    "\n",
    "### Why not Keras then?\n",
    "\n",
    "Keras is now part of Tensorflow itself from 2.0 onwards. Also, trax is good for implementing new state of the art algorithms like Transformers, Reformers, BERT because it is actively maintained by Google Brain Team for advanced deep learning tasks. It runs smoothly on CPUs,GPUs and TPUs as well with comparatively lesser modifications in code.\n",
    "\n",
    "### How to Code in Trax\n",
    "Building models in Trax relies on 2 key concepts:- **layers** and **combinators**.\n",
    "Trax layers are simple objects that process data and perform computations. They can be chained together into composite layers using Trax combinators, allowing you to build layers and models of any complexity.\n",
    "\n",
    "### Trax, JAX, TensorFlow and Tensor2Tensor\n",
    "\n",
    "You already know that Trax uses Tensorflow as a backend, but it also uses the JAX library to speed up computation too. You can view JAX as an enhanced and optimized version of numpy. \n",
    "\n",
    "**Watch out for assignments which import `import trax.fastmath.numpy as np`. If you see this line, remember that when calling `np` you are really calling Trax’s version of numpy that is compatible with JAX.**\n",
    "\n",
    "As a result of this, where you used to encounter the type `numpy.ndarray` now you will find the type `jax.interpreters.xla.DeviceArray`.\n",
    "\n",
    "Tensor2Tensor is another name you might have heard. It started as an end to end solution much like how Trax is designed, but it grew unwieldy and complicated. So you can view Trax as the new improved version that operates much faster and simpler.\n",
    "\n",
    "### Resources\n",
    "\n",
    "- Trax source code can be found on Github: [Trax](https://github.com/google/trax)\n",
    "- JAX library: [JAX](https://jax.readthedocs.io/en/latest/index.html)\n"
   ]
  },
  {
   "cell_type": "markdown",
   "metadata": {},
   "source": [
    "## Installing Trax\n",
    "\n",
    "Trax has dependencies on JAX and some libraries like JAX which are yet to be supported in [Windows](https://github.com/google/jax/blob/1bc5896ee4eab5d7bb4ec6f161d8b2abb30557be/README.md#installation) but work well in Ubuntu and MacOS. We would suggest that if you are working on Windows, try to install Trax on WSL2. \n",
    "\n",
    "Official maintained documentation - [trax-ml](https://trax-ml.readthedocs.io/en/latest/) not to be confused with this [TraX](https://trax.readthedocs.io/en/latest/index.html)"
   ]
  },
  {
   "cell_type": "code",
   "execution_count": 2,
   "metadata": {},
   "outputs": [
    {
     "name": "stdout",
     "output_type": "stream",
     "text": [
      "Collecting trax==1.3.1\n",
      "  Using cached https://files.pythonhosted.org/packages/fe/d8/ad90a5c79804561bbbc5fd65a4cb6b6e735370225e777cfc46980a9dc479/trax-1.3.1-py2.py3-none-any.whl\n",
      "Requirement already satisfied: tensorflow-datasets in /Users/eugenelin/opt/anaconda3/lib/python3.7/site-packages (from trax==1.3.1) (1.2.0)\n",
      "Requirement already satisfied: numpy in /Users/eugenelin/opt/anaconda3/lib/python3.7/site-packages (from trax==1.3.1) (1.17.2)\n",
      "Collecting jaxlib (from trax==1.3.1)\n",
      "\u001b[?25l  Downloading https://files.pythonhosted.org/packages/48/56/4d0d29ea9bd1965e87ae68c002b709cee2fbe1ae7fd943288b7f39d6e116/jaxlib-0.1.55-cp37-none-macosx_10_9_x86_64.whl (41.7MB)\n",
      "\u001b[K     |████████████████████████████████| 41.7MB 3.4MB/s eta 0:00:01     |██████████████████████████▏     | 34.1MB 870kB/s eta 0:00:09\n",
      "\u001b[?25hCollecting tensorflow-text (from trax==1.3.1)\n",
      "  Using cached https://files.pythonhosted.org/packages/4a/8f/0d872d28c0cfeedfffcace2d131a0b10640fbd3b97e26d7a26988a1f9a06/tensorflow_text-2.3.0-cp37-cp37m-macosx_10_9_x86_64.whl\n",
      "Collecting jax (from trax==1.3.1)\n",
      "\u001b[?25l  Downloading https://files.pythonhosted.org/packages/e1/d9/9bd335976d3b61f705c2e9c35da2c6e030f9cd9ffd3e111feb99d8d169a7/jax-0.2.0.tar.gz (454kB)\n",
      "\u001b[K     |████████████████████████████████| 460kB 7.4MB/s eta 0:00:01\n",
      "\u001b[?25hRequirement already satisfied: scipy in /Users/eugenelin/opt/anaconda3/lib/python3.7/site-packages (from trax==1.3.1) (1.4.1)\n",
      "Collecting tensor2tensor (from trax==1.3.1)\n",
      "\u001b[?25l  Downloading https://files.pythonhosted.org/packages/d6/7c/9e87d30cefad5cbc390bb7f626efb3ded9b19416b8160f1a1278da81b218/tensor2tensor-1.15.7-py2.py3-none-any.whl (1.4MB)\n",
      "\u001b[K     |████████████████████████████████| 1.5MB 36.4MB/s eta 0:00:01\n",
      "\u001b[?25hCollecting funcsigs (from trax==1.3.1)\n",
      "  Downloading https://files.pythonhosted.org/packages/69/cb/f5be453359271714c01b9bd06126eaf2e368f1fddfff30818754b5ac2328/funcsigs-1.0.2-py2.py3-none-any.whl\n",
      "Collecting gin-config (from trax==1.3.1)\n",
      "\u001b[?25l  Downloading https://files.pythonhosted.org/packages/a1/18/e8beb9462ac0c9cba169718383a7122c9f7db46e61737d3de8d13588ed90/gin_config-0.3.0-py3-none-any.whl (44kB)\n",
      "\u001b[K     |████████████████████████████████| 51kB 12.3MB/s eta 0:00:01\n",
      "\u001b[?25hRequirement already satisfied: absl-py in /Users/eugenelin/opt/anaconda3/lib/python3.7/site-packages (from trax==1.3.1) (0.9.0)\n",
      "Collecting gym (from trax==1.3.1)\n",
      "\u001b[?25l  Downloading https://files.pythonhosted.org/packages/10/b0/8482162d2fab1c805f83ce0ba953e5970691917f196fef62b93ed7cc14a2/gym-0.17.3.tar.gz (1.6MB)\n",
      "\u001b[K     |████████████████████████████████| 1.6MB 36.9MB/s eta 0:00:01\n",
      "\u001b[?25hRequirement already satisfied: six in /Users/eugenelin/opt/anaconda3/lib/python3.7/site-packages (from trax==1.3.1) (1.12.0)\n",
      "Collecting t5 (from trax==1.3.1)\n",
      "\u001b[?25l  Downloading https://files.pythonhosted.org/packages/4f/77/c00ce95121f5b8363b880aec38fde71ecaf9b7eeb29ed8bd29fc5f5b8541/t5-0.6.4-py3-none-any.whl (163kB)\n",
      "\u001b[K     |████████████████████████████████| 163kB 6.0MB/s eta 0:00:01\n",
      "\u001b[?25hRequirement already satisfied: promise in /Users/eugenelin/opt/anaconda3/lib/python3.7/site-packages (from tensorflow-datasets->trax==1.3.1) (2.2.1)\n",
      "Requirement already satisfied: tensorflow-metadata in /Users/eugenelin/opt/anaconda3/lib/python3.7/site-packages (from tensorflow-datasets->trax==1.3.1) (0.14.0)\n",
      "Requirement already satisfied: wrapt in /Users/eugenelin/opt/anaconda3/lib/python3.7/site-packages (from tensorflow-datasets->trax==1.3.1) (1.11.2)\n",
      "Requirement already satisfied: psutil in /Users/eugenelin/opt/anaconda3/lib/python3.7/site-packages (from tensorflow-datasets->trax==1.3.1) (5.6.3)\n",
      "Requirement already satisfied: requests>=2.19.0 in /Users/eugenelin/opt/anaconda3/lib/python3.7/site-packages (from tensorflow-datasets->trax==1.3.1) (2.24.0)\n",
      "Requirement already satisfied: attrs in /Users/eugenelin/opt/anaconda3/lib/python3.7/site-packages (from tensorflow-datasets->trax==1.3.1) (19.3.0)\n",
      "Requirement already satisfied: protobuf>=3.6.1 in /Users/eugenelin/opt/anaconda3/lib/python3.7/site-packages (from tensorflow-datasets->trax==1.3.1) (3.10.1)\n",
      "Requirement already satisfied: dill in /Users/eugenelin/opt/anaconda3/lib/python3.7/site-packages (from tensorflow-datasets->trax==1.3.1) (0.3.1.1)\n",
      "Requirement already satisfied: future in /Users/eugenelin/opt/anaconda3/lib/python3.7/site-packages (from tensorflow-datasets->trax==1.3.1) (0.18.2)\n",
      "Requirement already satisfied: tqdm in /Users/eugenelin/opt/anaconda3/lib/python3.7/site-packages (from tensorflow-datasets->trax==1.3.1) (4.36.1)\n",
      "Requirement already satisfied: termcolor in /Users/eugenelin/opt/anaconda3/lib/python3.7/site-packages (from tensorflow-datasets->trax==1.3.1) (1.1.0)\n",
      "Collecting tensorflow<2.4,>=2.3.0 (from tensorflow-text->trax==1.3.1)\n",
      "\u001b[?25l  Downloading https://files.pythonhosted.org/packages/0d/ea/f936c14b6e886221e53354e1992d0c4e0eb9566fcc70201047bb664ce777/tensorflow-2.3.1-cp37-cp37m-macosx_10_9_x86_64.whl (165.1MB)\n",
      "\u001b[K     |████████████████████████████████| 165.1MB 215kB/s eta 0:00:01     |███████████████████▉            | 102.4MB 1.2MB/s eta 0:00:51��████████▉       | 128.3MB 3.2MB/s eta 0:00:12��█████████       | 129.4MB 3.2MB/s eta 0:00:12     |██████████████████████████▌     | 137.0MB 707kB/s eta 0:00:40█████████████████████████▋    | 142.6MB 85kB/s eta 0:04:24\n",
      "\u001b[?25hRequirement already satisfied: opt_einsum in /Users/eugenelin/opt/anaconda3/lib/python3.7/site-packages (from jax->trax==1.3.1) (3.1.0)\n",
      "Requirement already satisfied: sympy in /Users/eugenelin/opt/anaconda3/lib/python3.7/site-packages (from tensor2tensor->trax==1.3.1) (1.4)\n",
      "Collecting gunicorn (from tensor2tensor->trax==1.3.1)\n",
      "  Using cached https://files.pythonhosted.org/packages/69/ca/926f7cd3a2014b16870086b2d0fdc84a9e49473c68a8dff8b57f7c156f43/gunicorn-20.0.4-py2.py3-none-any.whl\n",
      "Requirement already satisfied: flask in /Users/eugenelin/opt/anaconda3/lib/python3.7/site-packages (from tensor2tensor->trax==1.3.1) (1.1.1)\n",
      "Collecting bz2file (from tensor2tensor->trax==1.3.1)\n",
      "  Using cached https://files.pythonhosted.org/packages/61/39/122222b5e85cd41c391b68a99ee296584b2a2d1d233e7ee32b4532384f2d/bz2file-0.98.tar.gz\n",
      "Requirement already satisfied: gevent in /Users/eugenelin/opt/anaconda3/lib/python3.7/site-packages (from tensor2tensor->trax==1.3.1) (1.4.0)\n",
      "Collecting tensorflow-gan (from tensor2tensor->trax==1.3.1)\n",
      "  Using cached https://files.pythonhosted.org/packages/0c/2e/62922111d7d50e1900e3030764743ea7735540ce103b3ab30fd5cd2d8a2b/tensorflow_gan-2.0.0-py2.py3-none-any.whl\n",
      "Collecting tensorflow-probability==0.7.0 (from tensor2tensor->trax==1.3.1)\n",
      "  Using cached https://files.pythonhosted.org/packages/3e/3a/c10b6c22320531c774402ac7186d1b673374e2a9d12502cbc8d811e4601c/tensorflow_probability-0.7.0-py2.py3-none-any.whl\n",
      "Requirement already satisfied: h5py in /Users/eugenelin/opt/anaconda3/lib/python3.7/site-packages (from tensor2tensor->trax==1.3.1) (2.10.0)\n",
      "Requirement already satisfied: tensorflow-addons in /Users/eugenelin/opt/anaconda3/lib/python3.7/site-packages (from tensor2tensor->trax==1.3.1) (0.7.1)\n",
      "Collecting kfac (from tensor2tensor->trax==1.3.1)\n",
      "\u001b[?25l  Downloading https://files.pythonhosted.org/packages/1c/36/06fe2c757044bb51906fef231ac48cc5bf9a277fc9a8c7e1108d7e9e8cfd/kfac-0.2.3-py2.py3-none-any.whl (191kB)\n",
      "\u001b[K     |████████████████████████████████| 194kB 9.6MB/s eta 0:00:01\n",
      "\u001b[?25hCollecting google-api-python-client (from tensor2tensor->trax==1.3.1)\n",
      "\u001b[?25l  Downloading https://files.pythonhosted.org/packages/51/9a/2976a839fffb35d341bdce0cb06f1f9da80b148bfe209c55d3e34e5cc146/google_api_python_client-1.12.3-py2.py3-none-any.whl (61kB)\n",
      "\u001b[K     |████████████████████████████████| 61kB 12.6MB/s eta 0:00:01\n",
      "\u001b[?25hCollecting dopamine-rl (from tensor2tensor->trax==1.3.1)\n",
      "\u001b[?25l  Downloading https://files.pythonhosted.org/packages/ea/4e/adc7e7d1d096debfcd89fe5b0825e4efcbe9c9cd2c73358dcc7ce35b4334/dopamine_rl-3.1.7-py3-none-any.whl (117kB)\n",
      "\u001b[K     |████████████████████████████████| 122kB 8.8MB/s eta 0:00:01\n",
      "\u001b[?25hRequirement already satisfied: opencv-python in /Users/eugenelin/opt/anaconda3/lib/python3.7/site-packages (from tensor2tensor->trax==1.3.1) (4.2.0.34)\n",
      "Collecting mesh-tensorflow (from tensor2tensor->trax==1.3.1)\n",
      "\u001b[?25l  Downloading https://files.pythonhosted.org/packages/52/6b/d01247d9a9b49389599a28e17782ec1d3d45413cedbfe8e90aad46835329/mesh_tensorflow-0.1.16-py3-none-any.whl (305kB)\n",
      "\u001b[K     |████████████████████████████████| 307kB 14.3MB/s eta 0:00:01\n"
     ]
    },
    {
     "name": "stdout",
     "output_type": "stream",
     "text": [
      "\u001b[?25hRequirement already satisfied: oauth2client in /Users/eugenelin/opt/anaconda3/lib/python3.7/site-packages (from tensor2tensor->trax==1.3.1) (4.1.3)\n",
      "Requirement already satisfied: Pillow in /Users/eugenelin/opt/anaconda3/lib/python3.7/site-packages (from tensor2tensor->trax==1.3.1) (6.2.0)\n",
      "Collecting tf-slim (from tensor2tensor->trax==1.3.1)\n",
      "\u001b[?25l  Downloading https://files.pythonhosted.org/packages/02/97/b0f4a64df018ca018cc035d44f2ef08f91e2e8aa67271f6f19633a015ff7/tf_slim-1.1.0-py2.py3-none-any.whl (352kB)\n",
      "\u001b[K     |████████████████████████████████| 358kB 30.1MB/s eta 0:00:01\n",
      "\u001b[?25hCollecting pypng (from tensor2tensor->trax==1.3.1)\n",
      "  Using cached https://files.pythonhosted.org/packages/bc/fb/f719f1ac965e2101aa6ea6f54ef8b40f8fbb033f6ad07c017663467f5147/pypng-0.0.20.tar.gz\n",
      "Collecting pyglet<=1.5.0,>=1.4.0 (from gym->trax==1.3.1)\n",
      "\u001b[?25l  Downloading https://files.pythonhosted.org/packages/70/ca/20aee170afe6011e295e34b27ad7d7ccd795faba581dd3c6f7cec237f561/pyglet-1.5.0-py2.py3-none-any.whl (1.0MB)\n",
      "\u001b[K     |████████████████████████████████| 1.0MB 31.2MB/s eta 0:00:01\n",
      "\u001b[?25hRequirement already satisfied: cloudpickle<1.7.0,>=1.2.0 in /Users/eugenelin/opt/anaconda3/lib/python3.7/site-packages (from gym->trax==1.3.1) (1.2.2)\n",
      "Collecting rouge-score (from t5->trax==1.3.1)\n",
      "  Downloading https://files.pythonhosted.org/packages/1f/56/a81022436c08b9405a5247b71635394d44fe7e1dbedc4b28c740e09c2840/rouge_score-0.0.4-py2.py3-none-any.whl\n",
      "Collecting sacrebleu (from t5->trax==1.3.1)\n",
      "\u001b[?25l  Downloading https://files.pythonhosted.org/packages/a3/c4/8e948f601a4f9609e8b2b58f31966cb13cf17b940b82aa3e767f01c42c52/sacrebleu-1.4.14-py3-none-any.whl (64kB)\n",
      "\u001b[K     |████████████████████████████████| 71kB 16.6MB/s eta 0:00:01\n",
      "\u001b[?25hRequirement already satisfied: nltk in /Users/eugenelin/opt/anaconda3/lib/python3.7/site-packages (from t5->trax==1.3.1) (3.4.5)\n",
      "Collecting torch (from t5->trax==1.3.1)\n",
      "\u001b[?25l  Downloading https://files.pythonhosted.org/packages/58/26/6b86448bda61c1ce463ad2c962641a933113f4496de16085df41217cdccc/torch-1.6.0-cp37-none-macosx_10_9_x86_64.whl (97.4MB)\n",
      "\u001b[K     |████████████████████████████████| 97.4MB 3.4MB/s eta 0:00:014     |███████████████████             | 57.7MB 2.2MB/s eta 0:00:18     |███████████████████████         | 69.8MB 3.5MB/s eta 0:00:08\n",
      "\u001b[?25hRequirement already satisfied: babel in /Users/eugenelin/opt/anaconda3/lib/python3.7/site-packages (from t5->trax==1.3.1) (2.7.0)\n",
      "Collecting tfds-nightly (from t5->trax==1.3.1)\n",
      "\u001b[?25l  Downloading https://files.pythonhosted.org/packages/30/b0/8953c2c1b0a9d59dea040858fc2f51aaf4cd4cf522ef759c9af77d81dc4f/tfds_nightly-3.2.1.dev202010040107-py3-none-any.whl (3.5MB)\n",
      "\u001b[K     |████████████████████████████████| 3.5MB 472kB/s eta 0:00:01\n",
      "\u001b[?25hCollecting transformers>=2.7.0 (from t5->trax==1.3.1)\n",
      "\u001b[?25l  Downloading https://files.pythonhosted.org/packages/19/22/aff234f4a841f8999e68a7a94bdd4b60b4cebcfeca5d67d61cd08c9179de/transformers-3.3.1-py3-none-any.whl (1.1MB)\n",
      "\u001b[K     |████████████████████████████████| 1.1MB 2.5MB/s eta 0:00:01\n",
      "\u001b[?25hCollecting sentencepiece (from t5->trax==1.3.1)\n",
      "\u001b[?25l  Downloading https://files.pythonhosted.org/packages/84/e3/2d755b55423787f438269a26d8bd9743698921fdcde748c6fb050b1c1b8c/sentencepiece-0.1.91-cp37-cp37m-macosx_10_6_x86_64.whl (1.1MB)\n",
      "\u001b[K     |████████████████████████████████| 1.1MB 34.7MB/s eta 0:00:01\n",
      "\u001b[?25hRequirement already satisfied: pandas in /Users/eugenelin/opt/anaconda3/lib/python3.7/site-packages (from t5->trax==1.3.1) (0.25.1)\n",
      "Requirement already satisfied: scikit-learn in /Users/eugenelin/opt/anaconda3/lib/python3.7/site-packages (from t5->trax==1.3.1) (0.22.2.post1)\n",
      "Requirement already satisfied: googleapis-common-protos in /Users/eugenelin/opt/anaconda3/lib/python3.7/site-packages (from tensorflow-metadata->tensorflow-datasets->trax==1.3.1) (1.51.0)\n",
      "Requirement already satisfied: chardet<4,>=3.0.2 in /Users/eugenelin/opt/anaconda3/lib/python3.7/site-packages (from requests>=2.19.0->tensorflow-datasets->trax==1.3.1) (3.0.4)\n",
      "Requirement already satisfied: idna<3,>=2.5 in /Users/eugenelin/opt/anaconda3/lib/python3.7/site-packages (from requests>=2.19.0->tensorflow-datasets->trax==1.3.1) (2.8)\n",
      "Requirement already satisfied: certifi>=2017.4.17 in /Users/eugenelin/opt/anaconda3/lib/python3.7/site-packages (from requests>=2.19.0->tensorflow-datasets->trax==1.3.1) (2019.9.11)\n",
      "Requirement already satisfied: urllib3!=1.25.0,!=1.25.1,<1.26,>=1.21.1 in /Users/eugenelin/opt/anaconda3/lib/python3.7/site-packages (from requests>=2.19.0->tensorflow-datasets->trax==1.3.1) (1.24.2)\n",
      "Requirement already satisfied: setuptools in /Users/eugenelin/opt/anaconda3/lib/python3.7/site-packages (from protobuf>=3.6.1->tensorflow-datasets->trax==1.3.1) (41.4.0)\n",
      "Requirement already satisfied: astunparse==1.6.3 in /Users/eugenelin/opt/anaconda3/lib/python3.7/site-packages (from tensorflow<2.4,>=2.3.0->tensorflow-text->trax==1.3.1) (1.6.3)\n",
      "Collecting keras-preprocessing<1.2,>=1.1.1 (from tensorflow<2.4,>=2.3.0->tensorflow-text->trax==1.3.1)\n",
      "  Using cached https://files.pythonhosted.org/packages/79/4c/7c3275a01e12ef9368a892926ab932b33bb13d55794881e3573482b378a7/Keras_Preprocessing-1.1.2-py2.py3-none-any.whl\n",
      "Collecting tensorboard<3,>=2.3.0 (from tensorflow<2.4,>=2.3.0->tensorflow-text->trax==1.3.1)\n",
      "  Using cached https://files.pythonhosted.org/packages/e9/1b/6a420d7e6ba431cf3d51b2a5bfa06a958c4141e3189385963dc7f6fbffb6/tensorboard-2.3.0-py3-none-any.whl\n",
      "Requirement already satisfied: google-pasta>=0.1.8 in /Users/eugenelin/opt/anaconda3/lib/python3.7/site-packages (from tensorflow<2.4,>=2.3.0->tensorflow-text->trax==1.3.1) (0.2.0)\n",
      "Collecting gast==0.3.3 (from tensorflow<2.4,>=2.3.0->tensorflow-text->trax==1.3.1)\n",
      "  Using cached https://files.pythonhosted.org/packages/d6/84/759f5dd23fec8ba71952d97bcc7e2c9d7d63bdc582421f3cd4be845f0c98/gast-0.3.3-py2.py3-none-any.whl\n",
      "Requirement already satisfied: wheel>=0.26 in /Users/eugenelin/opt/anaconda3/lib/python3.7/site-packages (from tensorflow<2.4,>=2.3.0->tensorflow-text->trax==1.3.1) (0.33.6)\n",
      "Collecting tensorflow-estimator<2.4.0,>=2.3.0 (from tensorflow<2.4,>=2.3.0->tensorflow-text->trax==1.3.1)\n",
      "  Using cached https://files.pythonhosted.org/packages/e9/ed/5853ec0ae380cba4588eab1524e18ece1583b65f7ae0e97321f5ff9dfd60/tensorflow_estimator-2.3.0-py2.py3-none-any.whl\n",
      "Requirement already satisfied: grpcio>=1.8.6 in /Users/eugenelin/opt/anaconda3/lib/python3.7/site-packages (from tensorflow<2.4,>=2.3.0->tensorflow-text->trax==1.3.1) (1.30.0)\n",
      "Requirement already satisfied: mpmath>=0.19 in /Users/eugenelin/opt/anaconda3/lib/python3.7/site-packages (from sympy->tensor2tensor->trax==1.3.1) (1.1.0)\n",
      "Requirement already satisfied: Jinja2>=2.10.1 in /Users/eugenelin/opt/anaconda3/lib/python3.7/site-packages (from flask->tensor2tensor->trax==1.3.1) (2.10.3)\n",
      "Requirement already satisfied: Werkzeug>=0.15 in /Users/eugenelin/opt/anaconda3/lib/python3.7/site-packages (from flask->tensor2tensor->trax==1.3.1) (0.16.0)\n",
      "Requirement already satisfied: click>=5.1 in /Users/eugenelin/opt/anaconda3/lib/python3.7/site-packages (from flask->tensor2tensor->trax==1.3.1) (7.0)\n",
      "Requirement already satisfied: itsdangerous>=0.24 in /Users/eugenelin/opt/anaconda3/lib/python3.7/site-packages (from flask->tensor2tensor->trax==1.3.1) (1.1.0)\n",
      "Requirement already satisfied: greenlet>=0.4.14 in /Users/eugenelin/opt/anaconda3/lib/python3.7/site-packages (from gevent->tensor2tensor->trax==1.3.1) (0.4.15)\n",
      "Requirement already satisfied: tensorflow-hub>=0.2 in /Users/eugenelin/opt/anaconda3/lib/python3.7/site-packages (from tensorflow-gan->tensor2tensor->trax==1.3.1) (0.8.0)\n",
      "Requirement already satisfied: decorator in /Users/eugenelin/opt/anaconda3/lib/python3.7/site-packages (from tensorflow-probability==0.7.0->tensor2tensor->trax==1.3.1) (4.4.0)\n",
      "Collecting google-auth>=1.16.0 (from google-api-python-client->tensor2tensor->trax==1.3.1)\n",
      "\u001b[?25l  Downloading https://files.pythonhosted.org/packages/d6/3f/7fbf002e01c17c35cb68de64ab2cfc069fd6aca5b8fdc44a34490d993279/google_auth-1.22.0-py2.py3-none-any.whl (114kB)\n",
      "\u001b[K     |████████████████████████████████| 122kB 7.2MB/s eta 0:00:01\n",
      "\u001b[?25hRequirement already satisfied: httplib2<1dev,>=0.15.0 in /Users/eugenelin/opt/anaconda3/lib/python3.7/site-packages (from google-api-python-client->tensor2tensor->trax==1.3.1) (0.18.1)\n",
      "Collecting google-api-core<2dev,>=1.21.0 (from google-api-python-client->tensor2tensor->trax==1.3.1)\n"
     ]
    },
    {
     "name": "stdout",
     "output_type": "stream",
     "text": [
      "\u001b[?25l  Downloading https://files.pythonhosted.org/packages/eb/b0/ea7b8a2c136095c5be2f14210b31b214cb74c1eb8fee09a01ad0423a2a95/google_api_core-1.22.3-py2.py3-none-any.whl (91kB)\n",
      "\u001b[K     |████████████████████████████████| 92kB 21.3MB/s eta 0:00:01\n",
      "\u001b[?25hCollecting google-auth-httplib2>=0.0.3 (from google-api-python-client->tensor2tensor->trax==1.3.1)\n",
      "  Downloading https://files.pythonhosted.org/packages/bd/4e/992849016f8b0c27fb604aafd0a7a724db16128906197bd1245c6f18e6a1/google_auth_httplib2-0.0.4-py2.py3-none-any.whl\n",
      "Collecting uritemplate<4dev,>=3.0.0 (from google-api-python-client->tensor2tensor->trax==1.3.1)\n",
      "  Downloading https://files.pythonhosted.org/packages/bf/0c/60d82c077998feb631608dca3cc1fe19ac074e772bf0c24cf409b977b815/uritemplate-3.0.1-py2.py3-none-any.whl\n",
      "Collecting flax>=0.2.0 (from dopamine-rl->tensor2tensor->trax==1.3.1)\n",
      "\u001b[?25l  Downloading https://files.pythonhosted.org/packages/2e/ef/1a0c6a869396e4b20a83375fe06d725b5c1711746578ee8dd6969472af41/flax-0.2.2-py3-none-any.whl (148kB)\n",
      "\u001b[K     |████████████████████████████████| 153kB 7.2MB/s eta 0:00:01\n",
      "\u001b[?25hCollecting pygame>=1.9.2 (from dopamine-rl->tensor2tensor->trax==1.3.1)\n",
      "\u001b[?25l  Downloading https://files.pythonhosted.org/packages/32/37/453bbb62f90feff2a2b75fc739b674319f5f6a8789d5d21c6d2d7d42face/pygame-1.9.6-cp37-cp37m-macosx_10_11_intel.whl (4.9MB)\n",
      "\u001b[K     |████████████████████████████████| 4.9MB 4.0MB/s eta 0:00:01\n",
      "\u001b[?25hRequirement already satisfied: pyasn1>=0.1.7 in /Users/eugenelin/opt/anaconda3/lib/python3.7/site-packages (from oauth2client->tensor2tensor->trax==1.3.1) (0.4.8)\n",
      "Requirement already satisfied: pyasn1-modules>=0.0.5 in /Users/eugenelin/opt/anaconda3/lib/python3.7/site-packages (from oauth2client->tensor2tensor->trax==1.3.1) (0.2.7)\n",
      "Requirement already satisfied: rsa>=3.1.4 in /Users/eugenelin/opt/anaconda3/lib/python3.7/site-packages (from oauth2client->tensor2tensor->trax==1.3.1) (4.0)\n",
      "Collecting portalocker (from sacrebleu->t5->trax==1.3.1)\n",
      "  Downloading https://files.pythonhosted.org/packages/89/a6/3814b7107e0788040870e8825eebf214d72166adf656ba7d4bf14759a06a/portalocker-2.0.0-py2.py3-none-any.whl\n",
      "Requirement already satisfied: pytz>=2015.7 in /Users/eugenelin/opt/anaconda3/lib/python3.7/site-packages (from babel->t5->trax==1.3.1) (2019.3)\n",
      "Collecting dm-tree (from tfds-nightly->t5->trax==1.3.1)\n",
      "\u001b[?25l  Downloading https://files.pythonhosted.org/packages/13/c2/079b00ebf0cfb7804df3e7547d4e24ad0142d81ed178716a651c33ccc632/dm_tree-0.1.5-cp37-cp37m-macosx_10_9_x86_64.whl (94kB)\n",
      "\u001b[K     |████████████████████████████████| 102kB 6.4MB/s ta 0:00:011\n",
      "\u001b[?25hCollecting importlib-resources; python_version < \"3.9\" (from tfds-nightly->t5->trax==1.3.1)\n",
      "  Downloading https://files.pythonhosted.org/packages/ba/03/0f9595c0c2ef12590877f3c47e5f579759ce5caf817f8256d5dcbd8a1177/importlib_resources-3.0.0-py2.py3-none-any.whl\n",
      "Collecting sacremoses (from transformers>=2.7.0->t5->trax==1.3.1)\n",
      "\u001b[?25l  Downloading https://files.pythonhosted.org/packages/7d/34/09d19aff26edcc8eb2a01bed8e98f13a1537005d31e95233fd48216eed10/sacremoses-0.0.43.tar.gz (883kB)\n",
      "\u001b[K     |████████████████████████████████| 890kB 10.4MB/s eta 0:00:01     |█████████████████▍              | 481kB 10.4MB/s eta 0:00:01\n",
      "\u001b[?25hRequirement already satisfied: packaging in /Users/eugenelin/opt/anaconda3/lib/python3.7/site-packages (from transformers>=2.7.0->t5->trax==1.3.1) (20.4)\n",
      "Requirement already satisfied: filelock in /Users/eugenelin/opt/anaconda3/lib/python3.7/site-packages (from transformers>=2.7.0->t5->trax==1.3.1) (3.0.12)\n",
      "Collecting tokenizers==0.8.1.rc2 (from transformers>=2.7.0->t5->trax==1.3.1)\n",
      "\u001b[?25l  Downloading https://files.pythonhosted.org/packages/1b/87/3e7ea5e5be54ff4fc0422a23b78d98b7c982a741b61988463da41cd5355c/tokenizers-0.8.1rc2-cp37-cp37m-macosx_10_14_x86_64.whl (2.1MB)\n",
      "\u001b[K     |████████████████████████████████| 2.1MB 23.0MB/s eta 0:00:01\n",
      "\u001b[?25hRequirement already satisfied: regex!=2019.12.17 in /Users/eugenelin/opt/anaconda3/lib/python3.7/site-packages (from transformers>=2.7.0->t5->trax==1.3.1) (2020.6.8)\n",
      "Requirement already satisfied: python-dateutil>=2.6.1 in /Users/eugenelin/opt/anaconda3/lib/python3.7/site-packages (from pandas->t5->trax==1.3.1) (2.8.0)\n",
      "Requirement already satisfied: joblib>=0.11 in /Users/eugenelin/opt/anaconda3/lib/python3.7/site-packages (from scikit-learn->t5->trax==1.3.1) (0.13.2)\n",
      "Requirement already satisfied: google-auth-oauthlib<0.5,>=0.4.1 in /Users/eugenelin/opt/anaconda3/lib/python3.7/site-packages (from tensorboard<3,>=2.3.0->tensorflow<2.4,>=2.3.0->tensorflow-text->trax==1.3.1) (0.4.1)\n",
      "Requirement already satisfied: markdown>=2.6.8 in /Users/eugenelin/opt/anaconda3/lib/python3.7/site-packages (from tensorboard<3,>=2.3.0->tensorflow<2.4,>=2.3.0->tensorflow-text->trax==1.3.1) (3.1.1)\n",
      "Requirement already satisfied: tensorboard-plugin-wit>=1.6.0 in /Users/eugenelin/opt/anaconda3/lib/python3.7/site-packages (from tensorboard<3,>=2.3.0->tensorflow<2.4,>=2.3.0->tensorflow-text->trax==1.3.1) (1.6.0.post3)\n",
      "Requirement already satisfied: MarkupSafe>=0.23 in /Users/eugenelin/opt/anaconda3/lib/python3.7/site-packages (from Jinja2>=2.10.1->flask->tensor2tensor->trax==1.3.1) (1.1.1)\n",
      "Requirement already satisfied: cachetools<5.0,>=2.0.0 in /Users/eugenelin/opt/anaconda3/lib/python3.7/site-packages (from google-auth>=1.16.0->google-api-python-client->tensor2tensor->trax==1.3.1) (4.1.0)\n",
      "Requirement already satisfied: aiohttp<4.0.0dev,>=3.6.2; python_version >= \"3.6\" in /Users/eugenelin/opt/anaconda3/lib/python3.7/site-packages (from google-auth>=1.16.0->google-api-python-client->tensor2tensor->trax==1.3.1) (3.6.2)\n",
      "Requirement already satisfied: matplotlib in /Users/eugenelin/opt/anaconda3/lib/python3.7/site-packages (from flax>=0.2.0->dopamine-rl->tensor2tensor->trax==1.3.1) (3.1.1)\n",
      "Requirement already satisfied: msgpack in /Users/eugenelin/opt/anaconda3/lib/python3.7/site-packages (from flax>=0.2.0->dopamine-rl->tensor2tensor->trax==1.3.1) (0.6.1)\n",
      "Requirement already satisfied: zipp>=0.4; python_version < \"3.8\" in /Users/eugenelin/opt/anaconda3/lib/python3.7/site-packages (from importlib-resources; python_version < \"3.9\"->tfds-nightly->t5->trax==1.3.1) (0.6.0)\n",
      "Requirement already satisfied: pyparsing>=2.0.2 in /Users/eugenelin/opt/anaconda3/lib/python3.7/site-packages (from packaging->transformers>=2.7.0->t5->trax==1.3.1) (2.4.2)\n",
      "Requirement already satisfied: requests-oauthlib>=0.7.0 in /Users/eugenelin/opt/anaconda3/lib/python3.7/site-packages (from google-auth-oauthlib<0.5,>=0.4.1->tensorboard<3,>=2.3.0->tensorflow<2.4,>=2.3.0->tensorflow-text->trax==1.3.1) (1.3.0)\n",
      "Requirement already satisfied: multidict<5.0,>=4.5 in /Users/eugenelin/opt/anaconda3/lib/python3.7/site-packages (from aiohttp<4.0.0dev,>=3.6.2; python_version >= \"3.6\"->google-auth>=1.16.0->google-api-python-client->tensor2tensor->trax==1.3.1) (4.7.6)\n",
      "Requirement already satisfied: yarl<2.0,>=1.0 in /Users/eugenelin/opt/anaconda3/lib/python3.7/site-packages (from aiohttp<4.0.0dev,>=3.6.2; python_version >= \"3.6\"->google-auth>=1.16.0->google-api-python-client->tensor2tensor->trax==1.3.1) (1.4.2)\n",
      "Requirement already satisfied: async-timeout<4.0,>=3.0 in /Users/eugenelin/opt/anaconda3/lib/python3.7/site-packages (from aiohttp<4.0.0dev,>=3.6.2; python_version >= \"3.6\"->google-auth>=1.16.0->google-api-python-client->tensor2tensor->trax==1.3.1) (3.0.1)\n",
      "Requirement already satisfied: cycler>=0.10 in /Users/eugenelin/opt/anaconda3/lib/python3.7/site-packages (from matplotlib->flax>=0.2.0->dopamine-rl->tensor2tensor->trax==1.3.1) (0.10.0)\n",
      "Requirement already satisfied: kiwisolver>=1.0.1 in /Users/eugenelin/opt/anaconda3/lib/python3.7/site-packages (from matplotlib->flax>=0.2.0->dopamine-rl->tensor2tensor->trax==1.3.1) (1.1.0)\n",
      "Requirement already satisfied: more-itertools in /Users/eugenelin/opt/anaconda3/lib/python3.7/site-packages (from zipp>=0.4; python_version < \"3.8\"->importlib-resources; python_version < \"3.9\"->tfds-nightly->t5->trax==1.3.1) (7.2.0)\n",
      "Requirement already satisfied: oauthlib>=3.0.0 in /Users/eugenelin/opt/anaconda3/lib/python3.7/site-packages (from requests-oauthlib>=0.7.0->google-auth-oauthlib<0.5,>=0.4.1->tensorboard<3,>=2.3.0->tensorflow<2.4,>=2.3.0->tensorflow-text->trax==1.3.1) (3.1.0)\n",
      "Building wheels for collected packages: jax, gym, bz2file, pypng, sacremoses\n"
     ]
    },
    {
     "name": "stdout",
     "output_type": "stream",
     "text": [
      "  Building wheel for jax (setup.py) ... \u001b[?25ldone\n",
      "\u001b[?25h  Created wheel for jax: filename=jax-0.2.0-cp37-none-any.whl size=522280 sha256=4ca8ba5a07c1dcf8b17811a4ada2e5e6dfc34da0a35f1c255c93270dc5280623\n",
      "  Stored in directory: /Users/eugenelin/Library/Caches/pip/wheels/99/f1/91/e9c21aca3142a6d2e5e760162fd65a1430438b7630a0b75591\n",
      "  Building wheel for gym (setup.py) ... \u001b[?25ldone\n",
      "\u001b[?25h  Created wheel for gym: filename=gym-0.17.3-cp37-none-any.whl size=1654655 sha256=b831b6ec54b2548f129ca42b1ddee3deba3e09b14da1947253989cf816d03008\n",
      "  Stored in directory: /Users/eugenelin/Library/Caches/pip/wheels/05/31/54/501ff9f64e6084bbcb75e600f257f3c628b19f0eaadc37162d\n",
      "  Building wheel for bz2file (setup.py) ... \u001b[?25ldone\n",
      "\u001b[?25h  Created wheel for bz2file: filename=bz2file-0.98-cp37-none-any.whl size=6883 sha256=9d320d8e2df29467b673eb9364d62f11a89ed924270bde30f7d4ce67dbc95b88\n",
      "  Stored in directory: /Users/eugenelin/Library/Caches/pip/wheels/81/75/d6/e1317bf09bf1af5a30befc2a007869fa6e1f516b8f7c591cb9\n",
      "  Building wheel for pypng (setup.py) ... \u001b[?25ldone\n",
      "\u001b[?25h  Created wheel for pypng: filename=pypng-0.0.20-cp37-none-any.whl size=67164 sha256=a81b35e80880c57b56de0b0df1b21c41abbe3e39fbd4514852226700f63e7027\n",
      "  Stored in directory: /Users/eugenelin/Library/Caches/pip/wheels/41/6b/ef/0493b536b6d4722c2ae9486691b1d49b922b9877922beeabb3\n",
      "  Building wheel for sacremoses (setup.py) ... \u001b[?25ldone\n",
      "\u001b[?25h  Created wheel for sacremoses: filename=sacremoses-0.0.43-cp37-none-any.whl size=893261 sha256=d90682ecdda797570cdd37fd43b401243c0272ebeba87489771b0dd7b87d1ab9\n",
      "  Stored in directory: /Users/eugenelin/Library/Caches/pip/wheels/29/3c/fd/7ce5c3f0666dab31a50123635e6fb5e19ceb42ce38d4e58f45\n",
      "Successfully built jax gym bz2file pypng sacremoses\n",
      "\u001b[31mERROR: google-api-core 1.22.3 has requirement protobuf>=3.12.0, but you'll have protobuf 3.10.1 which is incompatible.\u001b[0m\n",
      "\u001b[31mERROR: google-api-core 1.22.3 has requirement six>=1.13.0, but you'll have six 1.12.0 which is incompatible.\u001b[0m\n",
      "\u001b[31mERROR: kfac 0.2.3 has requirement tensorflow-probability==0.8, but you'll have tensorflow-probability 0.7.0 which is incompatible.\u001b[0m\n",
      "\u001b[31mERROR: google-api-python-client 1.12.3 has requirement six<2dev,>=1.13.0, but you'll have six 1.12.0 which is incompatible.\u001b[0m\n",
      "\u001b[31mERROR: dopamine-rl 3.1.7 has requirement Pillow>=7.0.0, but you'll have pillow 6.2.0 which is incompatible.\u001b[0m\n",
      "\u001b[31mERROR: rouge-score 0.0.4 has requirement six>=1.14.0, but you'll have six 1.12.0 which is incompatible.\u001b[0m\n",
      "\u001b[31mERROR: t5 0.6.4 has requirement six>=1.14, but you'll have six 1.12.0 which is incompatible.\u001b[0m\n",
      "Installing collected packages: jaxlib, keras-preprocessing, google-auth, tensorboard, gast, tensorflow-estimator, tensorflow, tensorflow-text, jax, gunicorn, bz2file, pyglet, gym, tensorflow-probability, tensorflow-gan, kfac, google-api-core, google-auth-httplib2, uritemplate, google-api-python-client, flax, pygame, gin-config, tf-slim, dopamine-rl, mesh-tensorflow, pypng, tensor2tensor, funcsigs, rouge-score, portalocker, sacrebleu, torch, dm-tree, importlib-resources, tfds-nightly, sentencepiece, sacremoses, tokenizers, transformers, t5, trax\n",
      "  Found existing installation: Keras-Preprocessing 1.1.0\n",
      "    Uninstalling Keras-Preprocessing-1.1.0:\n",
      "      Successfully uninstalled Keras-Preprocessing-1.1.0\n",
      "  Found existing installation: google-auth 1.14.1\n",
      "    Uninstalling google-auth-1.14.1:\n",
      "      Successfully uninstalled google-auth-1.14.1\n",
      "  Found existing installation: tensorboard 2.1.1\n",
      "    Uninstalling tensorboard-2.1.1:\n",
      "      Successfully uninstalled tensorboard-2.1.1\n",
      "  Found existing installation: gast 0.2.2\n",
      "    Uninstalling gast-0.2.2:\n",
      "      Successfully uninstalled gast-0.2.2\n",
      "  Found existing installation: tensorflow-estimator 2.1.0\n",
      "    Uninstalling tensorflow-estimator-2.1.0:\n",
      "      Successfully uninstalled tensorflow-estimator-2.1.0\n",
      "  Found existing installation: tensorflow 2.1.1\n",
      "    Uninstalling tensorflow-2.1.1:\n",
      "      Successfully uninstalled tensorflow-2.1.1\n",
      "  Found existing installation: tensorflow-probability 0.9.0\n",
      "    Uninstalling tensorflow-probability-0.9.0:\n",
      "      Successfully uninstalled tensorflow-probability-0.9.0\n",
      "  Found existing installation: google-api-core 1.17.0\n",
      "    Uninstalling google-api-core-1.17.0:\n",
      "      Successfully uninstalled google-api-core-1.17.0\n",
      "Successfully installed bz2file-0.98 dm-tree-0.1.5 dopamine-rl-3.1.7 flax-0.2.2 funcsigs-1.0.2 gast-0.3.3 gin-config-0.3.0 google-api-core-1.22.3 google-api-python-client-1.12.3 google-auth-1.22.0 google-auth-httplib2-0.0.4 gunicorn-20.0.4 gym-0.17.3 importlib-resources-3.0.0 jax-0.2.0 jaxlib-0.1.55 keras-preprocessing-1.1.2 kfac-0.2.3 mesh-tensorflow-0.1.16 portalocker-2.0.0 pygame-1.9.6 pyglet-1.5.0 pypng-0.0.20 rouge-score-0.0.4 sacrebleu-1.4.14 sacremoses-0.0.43 sentencepiece-0.1.91 t5-0.6.4 tensor2tensor-1.15.7 tensorboard-2.3.0 tensorflow-2.3.1 tensorflow-estimator-2.3.0 tensorflow-gan-2.0.0 tensorflow-probability-0.7.0 tensorflow-text-2.3.0 tf-slim-1.1.0 tfds-nightly-3.2.1.dev202010040107 tokenizers-0.8.1rc2 torch-1.6.0 transformers-3.3.1 trax-1.3.1 uritemplate-3.0.1\n"
     ]
    }
   ],
   "source": [
    "#!pip install trax==1.3.1 #Use this version for this notebook "
   ]
  },
  {
   "cell_type": "markdown",
   "metadata": {},
   "source": [
    "\n",
    "## Imports"
   ]
  },
  {
   "cell_type": "code",
   "execution_count": 1,
   "metadata": {
    "tags": []
   },
   "outputs": [
    {
     "name": "stdout",
     "output_type": "stream",
     "text": [
      "INFO:tensorflow:tokens_length=568 inputs_length=512 targets_length=114 noise_density=0.15 mean_noise_span_length=3.0 \n"
     ]
    }
   ],
   "source": [
    "import numpy as np  # regular ol' numpy\n",
    "\n",
    "from trax import layers as tl  # core building block\n",
    "from trax import shapes  # data signatures: dimensionality and type\n",
    "from trax import fastmath  # uses jax, offers numpy on steroids"
   ]
  },
  {
   "cell_type": "code",
   "execution_count": 4,
   "metadata": {
    "tags": []
   },
   "outputs": [
    {
     "name": "stdout",
     "output_type": "stream",
     "text": [
      "trax                               1.3.1                \r\n"
     ]
    }
   ],
   "source": [
    "# Trax version 1.3.1 or better \n",
    "!pip list | grep trax"
   ]
  },
  {
   "cell_type": "markdown",
   "metadata": {},
   "source": [
    "## Layers\n",
    "Layers are the core building blocks in Trax or as mentioned in the lectures, they are the base classes.\n",
    "\n",
    "They take inputs, compute functions/custom calculations and return outputs.\n",
    "\n",
    "You can also inspect layer properties. Let me show you some examples.\n"
   ]
  },
  {
   "cell_type": "markdown",
   "metadata": {},
   "source": [
    "### Relu Layer\n",
    "First I'll show you how to build a relu activation function as a layer. A layer like this is one of the simplest types. Notice there is no object initialization so it works just like a math function.\n",
    "\n",
    "**Note: Activation functions are also layers in Trax, which might look odd if you have been using other frameworks for a longer time.**"
   ]
  },
  {
   "cell_type": "code",
   "execution_count": 2,
   "metadata": {
    "tags": []
   },
   "outputs": [
    {
     "name": "stdout",
     "output_type": "stream",
     "text": [
      "-- Properties --\n",
      "name : Relu\n",
      "expected inputs : 1\n",
      "promised outputs : 1 \n",
      "\n",
      "-- Inputs --\n",
      "x : [-2 -1  0  1  2] \n",
      "\n"
     ]
    },
    {
     "name": "stderr",
     "output_type": "stream",
     "text": [
      "/Users/eugenelin/anaconda3/lib/python3.7/site-packages/jax/lib/xla_bridge.py:130: UserWarning: No GPU/TPU found, falling back to CPU.\n",
      "  warnings.warn('No GPU/TPU found, falling back to CPU.')\n"
     ]
    },
    {
     "name": "stdout",
     "output_type": "stream",
     "text": [
      "-- Outputs --\n",
      "y : [0 0 0 1 2]\n"
     ]
    }
   ],
   "source": [
    "# Layers\n",
    "# Create a relu trax layer\n",
    "relu = tl.Relu()\n",
    "\n",
    "# Inspect properties\n",
    "print(\"-- Properties --\")\n",
    "print(\"name :\", relu.name)\n",
    "print(\"expected inputs :\", relu.n_in)\n",
    "print(\"promised outputs :\", relu.n_out, \"\\n\")\n",
    "\n",
    "# Inputs\n",
    "x = np.array([-2, -1, 0, 1, 2])\n",
    "print(\"-- Inputs --\")\n",
    "print(\"x :\", x, \"\\n\")\n",
    "\n",
    "# Outputs\n",
    "y = relu(x)\n",
    "print(\"-- Outputs --\")\n",
    "print(\"y :\", y)"
   ]
  },
  {
   "cell_type": "markdown",
   "metadata": {},
   "source": [
    "### Concatenate Layer\n",
    "Now I'll show you how to build a layer that takes 2 inputs. Notice the change in the expected inputs property from 1 to 2."
   ]
  },
  {
   "cell_type": "code",
   "execution_count": 3,
   "metadata": {
    "tags": []
   },
   "outputs": [
    {
     "name": "stdout",
     "output_type": "stream",
     "text": [
      "-- Properties --\n",
      "name : Concatenate\n",
      "expected inputs : 2\n",
      "promised outputs : 1 \n",
      "\n",
      "-- Inputs --\n",
      "x1 : [-10 -20 -30]\n",
      "x2 : [1. 2. 3.] \n",
      "\n",
      "-- Outputs --\n",
      "y : [-10. -20. -30.   1.   2.   3.]\n"
     ]
    }
   ],
   "source": [
    "# Create a concatenate trax layer\n",
    "concat = tl.Concatenate()\n",
    "print(\"-- Properties --\")\n",
    "print(\"name :\", concat.name)\n",
    "print(\"expected inputs :\", concat.n_in)\n",
    "print(\"promised outputs :\", concat.n_out, \"\\n\")\n",
    "\n",
    "# Inputs\n",
    "x1 = np.array([-10, -20, -30])\n",
    "x2 = x1 / -10\n",
    "print(\"-- Inputs --\")\n",
    "print(\"x1 :\", x1)\n",
    "print(\"x2 :\", x2, \"\\n\")\n",
    "\n",
    "# Outputs\n",
    "y = concat([x1, x2])\n",
    "print(\"-- Outputs --\")\n",
    "print(\"y :\", y)"
   ]
  },
  {
   "cell_type": "markdown",
   "metadata": {},
   "source": [
    "## Layers are Configurable\n",
    "You can change the default settings of layers. For example, you can change the expected inputs for a concatenate layer from 2 to 3 using the optional parameter `n_items`."
   ]
  },
  {
   "cell_type": "code",
   "execution_count": 4,
   "metadata": {
    "tags": []
   },
   "outputs": [
    {
     "name": "stdout",
     "output_type": "stream",
     "text": [
      "-- Properties --\n",
      "name : Concatenate\n",
      "expected inputs : 3\n",
      "promised outputs : 1 \n",
      "\n",
      "-- Inputs --\n",
      "x1 : [-10 -20 -30]\n",
      "x2 : [1. 2. 3.]\n",
      "x3 : [0.99 1.98 2.97] \n",
      "\n",
      "-- Outputs --\n",
      "y : [-10.   -20.   -30.     1.     2.     3.     0.99   1.98   2.97]\n"
     ]
    }
   ],
   "source": [
    "# Configure a concatenate layer\n",
    "concat_3 = tl.Concatenate(n_items=3)  # configure the layer's expected inputs\n",
    "print(\"-- Properties --\")\n",
    "print(\"name :\", concat_3.name)\n",
    "print(\"expected inputs :\", concat_3.n_in)\n",
    "print(\"promised outputs :\", concat_3.n_out, \"\\n\")\n",
    "\n",
    "# Inputs\n",
    "x1 = np.array([-10, -20, -30])\n",
    "x2 = x1 / -10\n",
    "x3 = x2 * 0.99\n",
    "print(\"-- Inputs --\")\n",
    "print(\"x1 :\", x1)\n",
    "print(\"x2 :\", x2)\n",
    "print(\"x3 :\", x3, \"\\n\")\n",
    "\n",
    "# Outputs\n",
    "y = concat_3([x1, x2, x3])\n",
    "print(\"-- Outputs --\")\n",
    "print(\"y :\", y)"
   ]
  },
  {
   "cell_type": "markdown",
   "metadata": {},
   "source": [
    "**Note: At any point,if you want to refer the function help/ look up the [documentation](https://trax-ml.readthedocs.io/en/latest/) or use help function.**"
   ]
  },
  {
   "cell_type": "code",
   "execution_count": 5,
   "metadata": {},
   "outputs": [
    {
     "name": "stdout",
     "output_type": "stream",
     "text": [
      "Help on class Concatenate in module trax.layers.combinators:\n",
      "\n",
      "class Concatenate(trax.layers.base.Layer)\n",
      " |  Concatenate(n_items=2, axis=-1)\n",
      " |  \n",
      " |  Concatenates n tensors into a single tensor.\n",
      " |  \n",
      " |  Method resolution order:\n",
      " |      Concatenate\n",
      " |      trax.layers.base.Layer\n",
      " |      builtins.object\n",
      " |  \n",
      " |  Methods defined here:\n",
      " |  \n",
      " |  __init__(self, n_items=2, axis=-1)\n",
      " |      Creates a partially initialized, unconnected layer instance.\n",
      " |      \n",
      " |      Args:\n",
      " |        n_in: Number of inputs expected by this layer.\n",
      " |        n_out: Number of outputs promised by this layer.\n",
      " |        name: Class-like name for this layer; for use when printing this layer.\n",
      " |        sublayers_to_print: Sublayers to display when printing out this layer;\n",
      " |          By default (when None) we display all sublayers.\n",
      " |  \n",
      " |  forward(self, xs)\n",
      " |      Computes this layer's output as part of a forward pass through the model.\n",
      " |      \n",
      " |      Authors of new layer subclasses should override this method to define the\n",
      " |      forward computation that their layer performs. Use `self.weights` to access\n",
      " |      trainable weights of this layer. If you need to use local non-trainable\n",
      " |      state or randomness, use `self.rng` for the random seed (no need to set it)\n",
      " |      and use `self.state` for non-trainable state (and set it to the new value).\n",
      " |      \n",
      " |      Args:\n",
      " |        inputs: Zero or more input tensors, packaged as described in the `Layer`\n",
      " |            class docstring.\n",
      " |      \n",
      " |      Returns:\n",
      " |        Zero or more output tensors, packaged as described in the `Layer` class\n",
      " |        docstring.\n",
      " |  \n",
      " |  ----------------------------------------------------------------------\n",
      " |  Methods inherited from trax.layers.base.Layer:\n",
      " |  \n",
      " |  __call__(self, x, weights=None, state=None, rng=None)\n",
      " |      Makes layers callable; for use in tests or interactive settings.\n",
      " |      \n",
      " |      This convenience method helps library users play with, test, or otherwise\n",
      " |      probe the behavior of layers outside of a full training environment. It\n",
      " |      presents the layer as callable function from inputs to outputs, with the\n",
      " |      option of manually specifying weights and non-parameter state per individual\n",
      " |      call. For convenience, weights and non-parameter state are cached per layer\n",
      " |      instance, starting from default values of `EMPTY_WEIGHTS` and `EMPTY_STATE`,\n",
      " |      and acquiring non-empty values either by initialization or from values\n",
      " |      explicitly provided via the weights and state keyword arguments.\n",
      " |      \n",
      " |      Args:\n",
      " |        x: Zero or more input tensors, packaged as described in the `Layer` class\n",
      " |            docstring.\n",
      " |        weights: Weights or `None`; if `None`, use self's cached weights value.\n",
      " |        state: State or `None`; if `None`, use self's cached state value.\n",
      " |        rng: Single-use random number generator (JAX PRNG key), or `None`;\n",
      " |            if `None`, use a default computed from an integer 0 seed.\n",
      " |      \n",
      " |      Returns:\n",
      " |        Zero or more output tensors, packaged as described in the `Layer` class\n",
      " |        docstring.\n",
      " |  \n",
      " |  __repr__(self)\n",
      " |      Return repr(self).\n",
      " |  \n",
      " |  backward(self, inputs, output, grad, weights, state, new_state, rng)\n",
      " |      Custom backward pass to propagate gradients in a custom way.\n",
      " |      \n",
      " |      Args:\n",
      " |        inputs: Input tensors; can be a (possibly nested) tuple.\n",
      " |        output: The result of running this layer on inputs.\n",
      " |        grad: Gradient signal computed based on subsequent layers; its structure\n",
      " |            and shape must match output.\n",
      " |        weights: This layer's weights.\n",
      " |        state: This layer's state prior to the current forward pass.\n",
      " |        new_state: This layer's state after the current forward pass.\n",
      " |        rng: Single-use random number generator (JAX PRNG key).\n",
      " |      \n",
      " |      Returns:\n",
      " |        The custom gradient signal for the input. Note that we need to return\n",
      " |        a gradient for each argument of forward, so it will usually be a tuple\n",
      " |        of signals: the gradient for inputs and weights.\n",
      " |  \n",
      " |  init(self, input_signature, rng=None, use_cache=False)\n",
      " |      Initializes weights/state of this layer and its sublayers recursively.\n",
      " |      \n",
      " |      Initialization creates layer weights and state, for layers that use them.\n",
      " |      It derives the necessary array shapes and data types from the layer's input\n",
      " |      signature, which is itself just shape and data type information.\n",
      " |      \n",
      " |      For layers without weights or state, this method safely does nothing.\n",
      " |      \n",
      " |      This method is designed to create weights/state only once for each layer\n",
      " |      instance, even if the same layer instance occurs in multiple places in the\n",
      " |      network. This enables weight sharing to be implemented as layer sharing.\n",
      " |      \n",
      " |      Args:\n",
      " |        input_signature: `ShapeDtype` instance (if this layer takes one input)\n",
      " |            or list/tuple of `ShapeDtype` instances.\n",
      " |        rng: Single-use random number generator (JAX PRNG key), or `None`;\n",
      " |            if `None`, use a default computed from an integer 0 seed.\n",
      " |        use_cache: If `True`, and if this layer instance has already been\n",
      " |            initialized elsewhere in the network, then return special marker\n",
      " |            values -- tuple `(GET_WEIGHTS_FROM_CACHE, GET_STATE_FROM_CACHE)`.\n",
      " |            Else return this layer's newly initialized weights and state.\n",
      " |      \n",
      " |      Returns:\n",
      " |        A `(weights, state)` tuple.\n",
      " |  \n",
      " |  init_from_file(self, file_name, weights_only=False, input_signature=None)\n",
      " |      Initializes this layer and its sublayers from a pickled checkpoint.\n",
      " |      \n",
      " |      In the common case (`weights_only=False`), the file must be a gziped pickled\n",
      " |      dictionary containing items with keys `'flat_weights', `'flat_state'` and\n",
      " |      `'input_signature'`, which are used to initialize this layer.\n",
      " |      If `input_signature` is specified, it's used instead of the one in the file.\n",
      " |      If `weights_only` is `True`, the dictionary does not need to have the\n",
      " |      `'flat_state'` item and the state it not restored either.\n",
      " |      \n",
      " |      Args:\n",
      " |        file_name: Name/path of the pickeled weights/state file.\n",
      " |        weights_only: If `True`, initialize only the layer's weights. Else\n",
      " |            initialize both weights and state.\n",
      " |        input_signature: Input signature to be used instead of the one from file.\n",
      " |  \n",
      " |  init_weights_and_state(self, input_signature)\n",
      " |      Initializes weights and state for inputs with the given signature.\n",
      " |      \n",
      " |      Authors of new layer subclasses should override this method if their layer\n",
      " |      uses trainable weights or non-trainable state. To initialize trainable\n",
      " |      weights, set `self.weights` and to initialize non-trainable state,\n",
      " |      set `self.state` to the intended value.\n",
      " |      \n",
      " |      Args:\n",
      " |        input_signature: A `ShapeDtype` instance (if this layer takes one input)\n",
      " |            or a list/tuple of `ShapeDtype` instances; signatures of inputs.\n",
      " |  \n",
      " |  output_signature(self, input_signature)\n",
      " |      Returns output signature this layer would give for `input_signature`.\n",
      " |  \n",
      " |  pure_fn(self, x, weights, state, rng, use_cache=False)\n",
      " |      Applies this layer as a pure function with no optional args.\n",
      " |      \n",
      " |      This method exposes the layer's computation as a pure function. This is\n",
      " |      especially useful for JIT compilation. Do not override, use `forward`\n",
      " |      instead.\n",
      " |      \n",
      " |      Args:\n",
      " |        x: Zero or more input tensors, packaged as described in the `Layer` class\n",
      " |            docstring.\n",
      " |        weights: A tuple or list of trainable weights, with one element for this\n",
      " |            layer if this layer has no sublayers, or one for each sublayer if\n",
      " |            this layer has sublayers. If a layer (or sublayer) has no trainable\n",
      " |            weights, the corresponding weights element is an empty tuple.\n",
      " |        state: Layer-specific non-parameter state that can update between batches.\n",
      " |        rng: Single-use random number generator (JAX PRNG key).\n",
      " |        use_cache: if `True`, cache weights and state in the layer object; used\n",
      " |          to implement layer sharing in combinators.\n",
      " |      \n",
      " |      Returns:\n",
      " |        A tuple of `(tensors, state)`. The tensors match the number (`n_out`)\n",
      " |        promised by this layer, and are packaged as described in the `Layer`\n",
      " |        class docstring.\n",
      " |  \n",
      " |  weights_and_state_signature(self, input_signature)\n",
      " |      Return a pair containing the signatures of weights and state.\n",
      " |  \n",
      " |  ----------------------------------------------------------------------\n",
      " |  Data descriptors inherited from trax.layers.base.Layer:\n",
      " |  \n",
      " |  __dict__\n",
      " |      dictionary for instance variables (if defined)\n",
      " |  \n",
      " |  __weakref__\n",
      " |      list of weak references to the object (if defined)\n",
      " |  \n",
      " |  has_backward\n",
      " |      Returns `True` if this layer provides its own custom backward pass code.\n",
      " |      \n",
      " |      A layer subclass that provides custom backward pass code (for custom\n",
      " |      gradients) must override this method to return `True`.\n",
      " |  \n",
      " |  n_in\n",
      " |      Returns how many tensors this layer expects as input.\n",
      " |  \n",
      " |  n_out\n",
      " |      Returns how many tensors this layer promises as output.\n",
      " |  \n",
      " |  name\n",
      " |      Returns the name of this layer.\n",
      " |  \n",
      " |  rng\n",
      " |      Returns a single-use random number generator without advancing it.\n",
      " |  \n",
      " |  state\n",
      " |      Returns a tuple containing this layer's state; may be empty.\n",
      " |  \n",
      " |  sublayers\n",
      " |      Returns a tuple containing this layer's sublayers; may be empty.\n",
      " |  \n",
      " |  weights\n",
      " |      Returns this layer's weights.\n",
      " |      \n",
      " |      Depending on the layer, the weights can be in the form of:\n",
      " |      \n",
      " |        - an empty tuple\n",
      " |        - a tensor (ndarray)\n",
      " |        - a nested structure of tuples and tensors\n",
      "\n"
     ]
    }
   ],
   "source": [
    "help(tl.Concatenate) #Uncomment this to see the function docstring with explaination"
   ]
  },
  {
   "cell_type": "markdown",
   "metadata": {},
   "source": [
    "## Layers can have Weights\n",
    "Some layer types include mutable weights and biases that are used in computation and training. Layers of this type require initialization before use.\n",
    "\n",
    "For example the `LayerNorm` layer calculates normalized data, that is also scaled by weights and biases. During initialization you pass the data shape and data type of the inputs, so the layer can initialize compatible arrays of weights and biases."
   ]
  },
  {
   "cell_type": "code",
   "execution_count": 8,
   "metadata": {},
   "outputs": [],
   "source": [
    "# Uncomment any of them to see information regarding the function\n",
    "#help(tl.LayerNorm)\n",
    "#help(shapes.signature)\n"
   ]
  },
  {
   "cell_type": "code",
   "execution_count": 7,
   "metadata": {
    "tags": []
   },
   "outputs": [
    {
     "name": "stdout",
     "output_type": "stream",
     "text": [
      "Normal shape: (4,) Data Type: <class 'tuple'>\n",
      "Shapes Trax: ShapeDtype{shape:(4,), dtype:float64} Data Type: <class 'trax.shapes.ShapeDtype'>\n",
      "-- Properties --\n",
      "name : LayerNorm\n",
      "expected inputs : 1\n",
      "promised outputs : 1\n",
      "weights : [1. 1. 1. 1.]\n",
      "biases : [0. 0. 0. 0.] \n",
      "\n",
      "-- Inputs --\n",
      "x : [0. 1. 2. 3.]\n",
      "-- Outputs --\n",
      "y : [-1.3416404  -0.44721344  0.44721344  1.3416404 ]\n"
     ]
    },
    {
     "name": "stderr",
     "output_type": "stream",
     "text": [
      "/Users/eugenelin/anaconda3/lib/python3.7/site-packages/jax/lax/lax.py:6181: UserWarning: Explicitly requested dtype float64 requested in ones is not available, and will be truncated to dtype float32. To enable more dtypes, set the jax_enable_x64 configuration option or the JAX_ENABLE_X64 shell environment variable. See https://github.com/google/jax#current-gotchas for more.\n",
      "  warnings.warn(msg.format(dtype, fun_name , truncated_dtype))\n",
      "/Users/eugenelin/anaconda3/lib/python3.7/site-packages/jax/lax/lax.py:6181: UserWarning: Explicitly requested dtype float64 requested in zeros is not available, and will be truncated to dtype float32. To enable more dtypes, set the jax_enable_x64 configuration option or the JAX_ENABLE_X64 shell environment variable. See https://github.com/google/jax#current-gotchas for more.\n",
      "  warnings.warn(msg.format(dtype, fun_name , truncated_dtype))\n"
     ]
    }
   ],
   "source": [
    "# Layer initialization\n",
    "norm = tl.LayerNorm()\n",
    "# You first must know what the input data will look like\n",
    "x = np.array([0, 1, 2, 3], dtype=\"float\")\n",
    "\n",
    "# Use the input data signature to get shape and type for initializing weights and biases\n",
    "norm.init(shapes.signature(x)) # We need to convert the input datatype from usual tuple to trax ShapeDtype\n",
    "\n",
    "print(\"Normal shape:\",x.shape, \"Data Type:\",type(x.shape))\n",
    "print(\"Shapes Trax:\",shapes.signature(x),\"Data Type:\",type(shapes.signature(x)))\n",
    "\n",
    "# Inspect properties\n",
    "print(\"-- Properties --\")\n",
    "print(\"name :\", norm.name)\n",
    "print(\"expected inputs :\", norm.n_in)\n",
    "print(\"promised outputs :\", norm.n_out)\n",
    "# Weights and biases\n",
    "print(\"weights :\", norm.weights[0])\n",
    "print(\"biases :\", norm.weights[1], \"\\n\")\n",
    "\n",
    "# Inputs\n",
    "print(\"-- Inputs --\")\n",
    "print(\"x :\", x)\n",
    "\n",
    "# Outputs\n",
    "y = norm(x)\n",
    "print(\"-- Outputs --\")\n",
    "print(\"y :\", y)"
   ]
  },
  {
   "cell_type": "markdown",
   "metadata": {},
   "source": [
    "## Custom Layers\n",
    "This is where things start getting more interesting!\n",
    "You can create your own custom layers too and define custom functions for computations by using `tl.Fn`. Let me show you how."
   ]
  },
  {
   "cell_type": "code",
   "execution_count": 9,
   "metadata": {},
   "outputs": [
    {
     "name": "stdout",
     "output_type": "stream",
     "text": [
      "Help on function Fn in module trax.layers.base:\n",
      "\n",
      "Fn(name, f, n_out=1)\n",
      "    Returns a layer with no weights that applies the function `f`.\n",
      "    \n",
      "    `f` can take and return any number of arguments, and takes only positional\n",
      "    arguments -- no default or keyword arguments. It often uses JAX-numpy (`jnp`).\n",
      "    The following, for example, would create a layer that takes two inputs and\n",
      "    returns two outputs -- element-wise sums and maxima:\n",
      "    \n",
      "        `Fn('SumAndMax', lambda x0, x1: (x0 + x1, jnp.maximum(x0, x1)), n_out=2)`\n",
      "    \n",
      "    The layer's number of inputs (`n_in`) is automatically set to number of\n",
      "    positional arguments in `f`, but you must explicitly set the number of\n",
      "    outputs (`n_out`) whenever it's not the default value 1.\n",
      "    \n",
      "    Args:\n",
      "      name: Class-like name for the resulting layer; for use in debugging.\n",
      "      f: Pure function from input tensors to output tensors, where each input\n",
      "          tensor is a separate positional arg, e.g., `f(x0, x1) --> x0 + x1`.\n",
      "          Output tensors must be packaged as specified in the `Layer` class\n",
      "          docstring.\n",
      "      n_out: Number of outputs promised by the layer; default value 1.\n",
      "    \n",
      "    Returns:\n",
      "      Layer executing the function `f`.\n",
      "\n"
     ]
    }
   ],
   "source": [
    "help(tl.Fn)"
   ]
  },
  {
   "cell_type": "code",
   "execution_count": 10,
   "metadata": {
    "tags": []
   },
   "outputs": [
    {
     "name": "stdout",
     "output_type": "stream",
     "text": [
      "-- Properties --\n",
      "name : TimesTwo\n",
      "expected inputs : 1\n",
      "promised outputs : 1 \n",
      "\n",
      "-- Inputs --\n",
      "x : [1 2 3] \n",
      "\n",
      "-- Outputs --\n",
      "y : [2 4 6]\n"
     ]
    }
   ],
   "source": [
    "# Define a custom layer\n",
    "# In this example you will create a layer to calculate the input times 2\n",
    "\n",
    "def TimesTwo():\n",
    "    layer_name = \"TimesTwo\" #don't forget to give your custom layer a name to identify\n",
    "\n",
    "    # Custom function for the custom layer\n",
    "    def func(x):\n",
    "        return x * 2\n",
    "\n",
    "    return tl.Fn(layer_name, func)\n",
    "\n",
    "\n",
    "# Test it\n",
    "times_two = TimesTwo()\n",
    "\n",
    "# Inspect properties\n",
    "print(\"-- Properties --\")\n",
    "print(\"name :\", times_two.name)\n",
    "print(\"expected inputs :\", times_two.n_in)\n",
    "print(\"promised outputs :\", times_two.n_out, \"\\n\")\n",
    "\n",
    "# Inputs\n",
    "x = np.array([1, 2, 3])\n",
    "print(\"-- Inputs --\")\n",
    "print(\"x :\", x, \"\\n\")\n",
    "\n",
    "# Outputs\n",
    "y = times_two(x)\n",
    "print(\"-- Outputs --\")\n",
    "print(\"y :\", y)"
   ]
  },
  {
   "cell_type": "markdown",
   "metadata": {},
   "source": [
    "## Combinators\n",
    "You can combine layers to build more complex layers. Trax provides a set of objects named combinator layers to make this happen. Combinators are themselves layers, so behavior commutes.\n",
    "\n"
   ]
  },
  {
   "cell_type": "markdown",
   "metadata": {},
   "source": [
    "### Serial Combinator\n",
    "This is the most common and easiest to use. For example could build a simple neural network by combining layers into a single layer using the `Serial` combinator. This new layer then acts just like a single layer, so you can inspect intputs, outputs and weights. Or even combine it into another layer! Combinators can then be used as trainable models. _Try adding more layers_\n",
    "\n",
    "**Note:As you must have guessed, if there is serial combinator, there must be a parallel combinator as well. Do try to explore about combinators and other layers from the trax documentation and look at the repo to understand how these layers are written.**\n"
   ]
  },
  {
   "cell_type": "code",
   "execution_count": null,
   "metadata": {},
   "outputs": [],
   "source": [
    "# help(tl.Serial)\n",
    "# help(tl.Parallel)"
   ]
  },
  {
   "cell_type": "code",
   "execution_count": 11,
   "metadata": {
    "tags": []
   },
   "outputs": [
    {
     "name": "stderr",
     "output_type": "stream",
     "text": [
      "/Users/eugenelin/anaconda3/lib/python3.7/site-packages/jax/lax/lax.py:6181: UserWarning: Explicitly requested dtype int64 requested in ones is not available, and will be truncated to dtype int32. To enable more dtypes, set the jax_enable_x64 configuration option or the JAX_ENABLE_X64 shell environment variable. See https://github.com/google/jax#current-gotchas for more.\n",
      "  warnings.warn(msg.format(dtype, fun_name , truncated_dtype))\n",
      "/Users/eugenelin/anaconda3/lib/python3.7/site-packages/jax/lax/lax.py:6181: UserWarning: Explicitly requested dtype int64 requested in zeros is not available, and will be truncated to dtype int32. To enable more dtypes, set the jax_enable_x64 configuration option or the JAX_ENABLE_X64 shell environment variable. See https://github.com/google/jax#current-gotchas for more.\n",
      "  warnings.warn(msg.format(dtype, fun_name , truncated_dtype))\n"
     ]
    },
    {
     "name": "stdout",
     "output_type": "stream",
     "text": [
      "-- Serial Model --\n",
      "Serial[\n",
      "  LayerNorm\n",
      "  Relu\n",
      "  TimesTwo\n",
      "] \n",
      "\n",
      "-- Properties --\n",
      "name : Serial\n",
      "sublayers : [LayerNorm, Relu, TimesTwo]\n",
      "expected inputs : 1\n",
      "promised outputs : 1\n",
      "weights & biases: [(DeviceArray([1, 1, 1, 1, 1], dtype=int32), DeviceArray([0, 0, 0, 0, 0], dtype=int32)), (), ()] \n",
      "\n",
      "-- Inputs --\n",
      "x : [-2 -1  0  1  2] \n",
      "\n",
      "-- Outputs --\n",
      "y : [0.        0.        0.        1.4142132 2.8284264]\n"
     ]
    }
   ],
   "source": [
    "# Serial combinator\n",
    "serial = tl.Serial(\n",
    "    tl.LayerNorm(),         # normalize input\n",
    "    tl.Relu(),              # convert negative values to zero\n",
    "    times_two,              # the custom layer you created above, multiplies the input recieved from above by 2\n",
    "    \n",
    "    ### START CODE HERE\n",
    "#     tl.Dense(n_units=2),  # try adding more layers. eg uncomment these lines\n",
    "#     tl.Dense(n_units=1),  # Binary classification, maybe? uncomment at your own peril\n",
    "#     tl.LogSoftmax()       # Yes, LogSoftmax is also a layer\n",
    "    ### END CODE HERE\n",
    ")\n",
    "\n",
    "# Initialization\n",
    "x = np.array([-2, -1, 0, 1, 2]) #input\n",
    "serial.init(shapes.signature(x)) #initialising serial instance\n",
    "\n",
    "print(\"-- Serial Model --\")\n",
    "print(serial,\"\\n\")\n",
    "print(\"-- Properties --\")\n",
    "print(\"name :\", serial.name)\n",
    "print(\"sublayers :\", serial.sublayers)\n",
    "print(\"expected inputs :\", serial.n_in)\n",
    "print(\"promised outputs :\", serial.n_out)\n",
    "print(\"weights & biases:\", serial.weights, \"\\n\")\n",
    "\n",
    "# Inputs\n",
    "print(\"-- Inputs --\")\n",
    "print(\"x :\", x, \"\\n\")\n",
    "\n",
    "# Outputs\n",
    "y = serial(x)\n",
    "print(\"-- Outputs --\")\n",
    "print(\"y :\", y)"
   ]
  },
  {
   "cell_type": "markdown",
   "metadata": {},
   "source": [
    "## JAX\n",
    "Just remember to lookout for which numpy you are using, the regular ol' numpy or Trax's JAX compatible numpy. Both tend to use the alias np so watch those import blocks.\n",
    "\n",
    "**Note:There are certain things which are still not possible in fastmath.numpy which can be done in numpy so you will see in assignments we will switch between them to get our work done.**"
   ]
  },
  {
   "cell_type": "code",
   "execution_count": 12,
   "metadata": {
    "tags": []
   },
   "outputs": [
    {
     "name": "stdout",
     "output_type": "stream",
     "text": [
      "good old numpy :  <class 'numpy.ndarray'> \n",
      "\n",
      "jax trax numpy :  <class 'jax.interpreters.xla.DeviceArray'>\n"
     ]
    }
   ],
   "source": [
    "# Numpy vs fastmath.numpy have different data types\n",
    "# Regular ol' numpy\n",
    "x_numpy = np.array([1, 2, 3])\n",
    "print(\"good old numpy : \", type(x_numpy), \"\\n\")\n",
    "\n",
    "# Fastmath and jax numpy\n",
    "x_jax = fastmath.numpy.array([1, 2, 3])\n",
    "print(\"jax trax numpy : \", type(x_jax))"
   ]
  },
  {
   "cell_type": "markdown",
   "metadata": {},
   "source": [
    "## Summary\n",
    "Trax is a concise framework, built on TensorFlow, for end to end machine learning. The key building blocks are layers and combinators. This notebook is just a taste, but sets you up with some key inuitions to take forward into the rest of the course and assignments where you will build end to end models."
   ]
  }
 ],
 "metadata": {
  "jupytext": {
   "encoding": "# -*- coding: utf-8 -*-",
   "formats": "ipynb,py:percent",
   "main_language": "python"
  },
  "kernelspec": {
   "display_name": "Python 3",
   "language": "python",
   "name": "python3"
  },
  "language_info": {
   "codemirror_mode": {
    "name": "ipython",
    "version": 3
   },
   "file_extension": ".py",
   "mimetype": "text/x-python",
   "name": "python",
   "nbconvert_exporter": "python",
   "pygments_lexer": "ipython3",
   "version": "3.7.4"
  }
 },
 "nbformat": 4,
 "nbformat_minor": 2
}
